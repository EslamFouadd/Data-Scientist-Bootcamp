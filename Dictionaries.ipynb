{
  "nbformat": 4,
  "nbformat_minor": 0,
  "metadata": {
    "colab": {
      "provenance": []
    },
    "kernelspec": {
      "name": "python3",
      "display_name": "Python 3"
    },
    "language_info": {
      "name": "python"
    }
  },
  "cells": [
    {
      "cell_type": "code",
      "execution_count": 1,
      "metadata": {
        "colab": {
          "base_uri": "https://localhost:8080/"
        },
        "id": "UHY6ajTXMB7o",
        "outputId": "7f6c079e-e3d0-45cc-f4c9-38e47423c575"
      },
      "outputs": [
        {
          "output_type": "stream",
          "name": "stdout",
          "text": [
            "berlin\n"
          ]
        }
      ],
      "source": [
        "# Definition of countries and capital\n",
        "countries = ['spain', 'france', 'germany', 'norway']\n",
        "capitals = ['madrid', 'paris', 'berlin', 'oslo']\n",
        "\n",
        "# Get index of 'germany': ind_ger\n",
        "\n",
        "ind_ger = countries.index(\"germany\")\n",
        "\n",
        "# Use ind_ger to print out capital of Germany\n",
        "\n",
        "print(capitals[ind_ger])"
      ]
    },
    {
      "cell_type": "code",
      "source": [
        "ind_fr = countries.index(\"france\")\n",
        "print(capitals[ind_fr])"
      ],
      "metadata": {
        "colab": {
          "base_uri": "https://localhost:8080/"
        },
        "id": "8QG1h6IQMEmN",
        "outputId": "4e02740a-9cc0-4db8-dc93-411749bdcbdc"
      },
      "execution_count": 2,
      "outputs": [
        {
          "output_type": "stream",
          "name": "stdout",
          "text": [
            "paris\n"
          ]
        }
      ]
    },
    {
      "cell_type": "code",
      "source": [
        "# Definition of countries and capital\n",
        "countries = ['spain', 'france', 'germany', 'norway']\n",
        "capitals = ['madrid', 'paris', 'berlin', 'oslo']\n",
        "\n",
        "# From string in countries and capitals, create dictionary europe\n",
        "europe = {'spain':'madrid',\n",
        "          'france': 'paris',\n",
        "          'germany': 'berlin',\n",
        "          'norway': 'oslo'}\n",
        "\n",
        "# Print europe\n",
        "print(europe)"
      ],
      "metadata": {
        "colab": {
          "base_uri": "https://localhost:8080/"
        },
        "id": "pKkZYTXPMkAz",
        "outputId": "a9c26676-1eca-4ffc-9821-6aca87b44d93"
      },
      "execution_count": 6,
      "outputs": [
        {
          "output_type": "stream",
          "name": "stdout",
          "text": [
            "{'spain': 'madrid', 'france': 'paris', 'germany': 'berlin', 'norway': 'oslo'}\n"
          ]
        }
      ]
    },
    {
      "cell_type": "code",
      "source": [
        "# Definition of dictionary\n",
        "europe = {'spain':'madrid', 'france':'paris', 'germany':'berlin', 'norway':'oslo' }\n",
        "\n",
        "# Print out the keys in europe\n",
        "print(europe.keys())\n",
        "\n",
        "# Print out value that belongs to key 'norway'\n",
        "print(europe['norway'])"
      ],
      "metadata": {
        "colab": {
          "base_uri": "https://localhost:8080/"
        },
        "id": "xk_6icLBMtx7",
        "outputId": "554e9041-8432-428f-a92a-753205b60408"
      },
      "execution_count": 15,
      "outputs": [
        {
          "output_type": "stream",
          "name": "stdout",
          "text": [
            "dict_keys(['spain', 'france', 'germany', 'norway'])\n",
            "oslo\n"
          ]
        }
      ]
    },
    {
      "cell_type": "markdown",
      "source": [
        "## Instructions\n",
        "\n",
        "1. Add the key 'italy' with the value 'rome' to europe.\n",
        "\n",
        "2. To assert that 'italy' is now a key in europe, print out 'italy' in europe.\n",
        "\n",
        "3. Add another key:value pair to europe: 'poland' is the key, 'warsaw' is the corresponding value.\n",
        "\n",
        "4. Print out europe."
      ],
      "metadata": {
        "id": "8DlZDLMHNgBv"
      }
    },
    {
      "cell_type": "code",
      "source": [
        "# Definition of dictionary\n",
        "europe = {'spain':'madrid', 'france':'paris', 'germany':'berlin', 'norway':'oslo' }\n",
        "\n",
        "# Add italy to europe\n",
        "\n",
        "europe[\"italy\"] = \"rome\"\n",
        "\n",
        "# Print out italy in europe\n",
        "\n",
        "print(\"italy\" in europe)\n",
        "\n",
        "# Add poland to europe\n",
        "\n",
        "europe[\"poland\"] = \"warsaw\"\n",
        "\n",
        "# Print europe\n",
        "print(europe)"
      ],
      "metadata": {
        "colab": {
          "base_uri": "https://localhost:8080/"
        },
        "id": "ELjbPrnoMzvC",
        "outputId": "38131fee-cb61-4eb9-abcd-129821564c2b"
      },
      "execution_count": 17,
      "outputs": [
        {
          "output_type": "stream",
          "name": "stdout",
          "text": [
            "True\n",
            "{'spain': 'madrid', 'france': 'paris', 'germany': 'berlin', 'norway': 'oslo', 'italy': 'rome', 'poland': 'warsaw'}\n"
          ]
        }
      ]
    },
    {
      "cell_type": "code",
      "source": [
        "# Definition of dictionary\n",
        "europe = {'spain':'madrid', 'france':'paris', 'germany':'bonn',\n",
        "          'norway':'oslo', 'italy':'rome', 'poland':'warsaw',\n",
        "          'australia':'vienna' }\n",
        "\n",
        "# Update capital of germany\n",
        "\n",
        "europe[\"germany\"] = \"berlin\"\n",
        "\n",
        "# Remove australia\n",
        "\n",
        "del(europe[\"australia\"])\n",
        "\n",
        "# Print europe\n",
        "print(europe)"
      ],
      "metadata": {
        "colab": {
          "base_uri": "https://localhost:8080/"
        },
        "id": "msG1gBxrN08j",
        "outputId": "89a7dfdd-7e71-4fb3-f825-c24a9408dc00"
      },
      "execution_count": 18,
      "outputs": [
        {
          "output_type": "stream",
          "name": "stdout",
          "text": [
            "{'spain': 'madrid', 'france': 'paris', 'germany': 'berlin', 'norway': 'oslo', 'italy': 'rome', 'poland': 'warsaw'}\n"
          ]
        }
      ]
    },
    {
      "cell_type": "markdown",
      "source": [
        "1. Use chained square brackets to select and print out the capital of France.\n",
        "\n",
        "2. Create a dictionary, named data, with the keys 'capital' and 'population'. Set them to 'rome' and 59.83, respectively.\n",
        "\n",
        "3. Add a new key-value pair to europe; the key is 'italy' and the value is data, the dictionary you just built."
      ],
      "metadata": {
        "id": "2-r-W7ELOKNR"
      }
    },
    {
      "cell_type": "code",
      "source": [
        "# Dictionary of dictionaries\n",
        "europe = { 'spain': { 'capital':'madrid', 'population':46.77 },\n",
        "           'france': { 'capital':'paris', 'population':66.03 },\n",
        "           'germany': { 'capital':'berlin', 'population':80.62 },\n",
        "           'norway': { 'capital':'oslo', 'population':5.084 } }\n",
        "\n",
        "\n",
        "# Print out the capital of France\n",
        "\n",
        "print(europe[\"france\"][\"capital\"])\n",
        "\n",
        "# Create sub-dictionary data\n",
        "\n",
        "data = {\n",
        "    \"capital\": \"rome\",\n",
        "    \"population\": 59.83\n",
        "}\n",
        "\n",
        "# Add data to europe under key 'italy'\n",
        "\n",
        "europe[\"italy\"] = data\n",
        "\n",
        "# Print europe\n",
        "print(europe)"
      ],
      "metadata": {
        "colab": {
          "base_uri": "https://localhost:8080/"
        },
        "id": "dysmM7-0N_7b",
        "outputId": "94dadac6-dc5b-4d6e-a400-c7584ef9df48"
      },
      "execution_count": 19,
      "outputs": [
        {
          "output_type": "stream",
          "name": "stdout",
          "text": [
            "paris\n",
            "{'spain': {'capital': 'madrid', 'population': 46.77}, 'france': {'capital': 'paris', 'population': 66.03}, 'germany': {'capital': 'berlin', 'population': 80.62}, 'norway': {'capital': 'oslo', 'population': 5.084}, 'italy': {'capital': 'rome', 'population': 59.83}}\n"
          ]
        }
      ]
    },
    {
      "cell_type": "code",
      "source": [],
      "metadata": {
        "id": "jUwJQngKOas0"
      },
      "execution_count": null,
      "outputs": []
    }
  ]
}