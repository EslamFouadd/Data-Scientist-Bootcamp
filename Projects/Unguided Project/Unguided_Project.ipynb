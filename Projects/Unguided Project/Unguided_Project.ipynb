{
  "cells": [
    {
      "metadata": {
        "dc": {
          "key": "4"
        },
        "deletable": false,
        "editable": false,
        "run_control": {
          "frozen": true
        },
        "tags": [
          "context"
        ],
        "id": "QMvI8E39lNC5"
      },
      "cell_type": "markdown",
      "source": [
        "## 1. Welcome!\n",
        "<p><img src=\"https://images.squarespace-cdn.com/content/v1/5bfff88170e802806d993220/1543573642944-GO0U893I5N6JJX9T12IS/the-office-season-1-cast-nbc.jpg\" alt=\"Markdown\">.</p>\n",
        "<p><strong>The Office!</strong> What started as a British mockumentary series about office culture in 2001 has since spawned ten other variants across the world, including an Israeli version (2010-13), a Hindi version (2019-), and even a French Canadian variant (2006-2007). Of all these iterations (including the original), the American series has been the longest-running, spanning 201 episodes over nine seasons.</p>\n",
        "<p>In this notebook, we will take a look at a dataset of The Office episodes, and try to understand how the popularity and quality of the series varied over time. To do so, we will use the following dataset: <code>datasets/office_episodes.csv</code>, which was downloaded from Kaggle <a href=\"https://www.kaggle.com/nehaprabhavalkar/the-office-dataset\">here</a>.</p>\n",
        "<p>This dataset contains information on a variety of characteristics of each episode. In detail, these are:\n",
        "<br></p>\n",
        "<div style=\"background-color: #efebe4; color: #05192d; text-align:left; vertical-align: middle; padding: 15px 25px 15px 25px; line-height: 1.6;\">\n",
        "    <div style=\"font-size:20px\"><b>datasets/office_episodes.csv</b></div>\n",
        "<ul>\n",
        "    <li><b>episode_number:</b> Canonical episode number.</li>\n",
        "    <li><b>season:</b> Season in which the episode appeared.</li>\n",
        "    <li><b>episode_title:</b> Title of the episode.</li>\n",
        "    <li><b>description:</b> Description of the episode.</li>\n",
        "    <li><b>ratings:</b> Average IMDB rating.</li>\n",
        "    <li><b>votes:</b> Number of votes.</li>\n",
        "    <li><b>viewership_mil:</b> Number of US viewers in millions.</li>\n",
        "    <li><b>duration:</b> Duration in number of minutes.</li>\n",
        "    <li><b>release_date:</b> Airdate.</li>\n",
        "    <li><b>guest_stars:</b> Guest stars in the episode (if any).</li>\n",
        "    <li><b>director:</b> Director of the episode.</li>\n",
        "    <li><b>writers:</b> Writers of the episode.</li>\n",
        "    <li><b>has_guests:</b> True/False column for whether the episode contained guest stars.</li>\n",
        "    <li><b>scaled_ratings:</b> The ratings scaled from 0 (worst-reviewed) to 1 (best-reviewed).</li>\n",
        "</ul>\n",
        "    </div>"
      ]
    },
    {
      "metadata": {
        "dc": {
          "key": "4"
        },
        "tags": [
          "sample_code"
        ],
        "trusted": true,
        "id": "-pP25WtUlNC7"
      },
      "cell_type": "code",
      "source": [
        "# Read in the CSV as a DataFrame\n",
        "\n",
        "# Print the first ten rows of the DataFrame\n"
      ],
      "execution_count": 7,
      "outputs": []
    },
    {
      "metadata": {
        "dc": {
          "key": "4"
        },
        "trusted": true,
        "id": "QTJw451zlNC8"
      },
      "cell_type": "code",
      "source": [
        "# Create a color_scheme list\n",
        "\n",
        "\n",
        "# Iterate over rows of office_episodes to input color name to the colors list\n",
        "\n",
        "\n",
        "# Inspect the first 10 values in the list\n"
      ],
      "execution_count": 8,
      "outputs": []
    },
    {
      "metadata": {
        "dc": {
          "key": "4"
        },
        "trusted": true,
        "id": "ACB2DevalNC8"
      },
      "cell_type": "code",
      "source": [
        "# Create a sizing system:\n",
        "# episodes with guest appearances have a marker size of 250\n",
        "# episodes without are sized 25\n",
        "\n",
        "\n",
        "# Inspect the first 10 values in the list\n"
      ],
      "execution_count": 9,
      "outputs": []
    },
    {
      "metadata": {
        "dc": {
          "key": "4"
        },
        "trusted": true,
        "id": "dpmtjAJSlNC8"
      },
      "cell_type": "code",
      "source": [
        "# Import matplotlib.pyplot under its usual alias and create a figure\n",
        "\n",
        "\n",
        "# Create a scatter plot\n",
        "\n",
        "# Create a title\n",
        "\n",
        "\n",
        "# Create an x-axis and an y-axis\n",
        "\n",
        "\n",
        "# Show the plot\n"
      ],
      "execution_count": 10,
      "outputs": []
    },
    {
      "metadata": {
        "dc": {
          "key": "4"
        },
        "trusted": true,
        "id": "6fxmDNfulNC9"
      },
      "cell_type": "code",
      "source": [
        "# The highest view\n",
        "\n",
        "# Filter the Dataframe row that has the most watched episode\n",
        "\n",
        "\n",
        "# Top guest stars that were in that episode\n"
      ],
      "execution_count": 11,
      "outputs": []
    },
    {
      "metadata": {
        "dc": {
          "key": "4"
        },
        "trusted": true,
        "collapsed": true,
        "id": "TS4z9taylNC9"
      },
      "cell_type": "code",
      "source": [],
      "execution_count": 11,
      "outputs": []
    }
  ],
  "metadata": {
    "kernelspec": {
      "name": "python3",
      "display_name": "Python 3",
      "language": "python"
    },
    "language_info": {
      "name": "python",
      "version": "3.6.7",
      "mimetype": "text/x-python",
      "codemirror_mode": {
        "name": "ipython",
        "version": 3
      },
      "pygments_lexer": "ipython3",
      "nbconvert_exporter": "python",
      "file_extension": ".py"
    },
    "colab": {
      "provenance": []
    }
  },
  "nbformat": 4,
  "nbformat_minor": 0
}