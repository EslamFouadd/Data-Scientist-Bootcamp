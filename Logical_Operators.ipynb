{
  "nbformat": 4,
  "nbformat_minor": 0,
  "metadata": {
    "colab": {
      "provenance": []
    },
    "kernelspec": {
      "name": "python3",
      "display_name": "Python 3"
    },
    "language_info": {
      "name": "python"
    }
  },
  "cells": [
    {
      "cell_type": "code",
      "execution_count": 1,
      "metadata": {
        "colab": {
          "base_uri": "https://localhost:8080/"
        },
        "id": "KMpIaLTGT_JD",
        "outputId": "edc97a1e-ef29-433f-b054-be94ff20cf7f"
      },
      "outputs": [
        {
          "output_type": "stream",
          "name": "stdout",
          "text": [
            "            cars_per_cap        country  drives_right\n",
            "country_ab                                           \n",
            "US                   809  United States          True\n",
            "AUS                  731      Australia         False\n",
            "JAP                  588          Japan         False\n"
          ]
        }
      ],
      "source": [
        "# Import cars data\n",
        "import pandas as pd\n",
        "cars = pd.read_csv('/content/cars.csv', index_col = 0)\n",
        "\n",
        "# Create car_maniac: observations that have a cars_per_cap over 500\n",
        "cpc = cars['cars_per_cap']\n",
        "many_cars = cpc > 500\n",
        "car_maniac = cars[many_cars]\n",
        "\n",
        "# Print car_maniac\n",
        "print(car_maniac)"
      ]
    },
    {
      "cell_type": "code",
      "source": [
        "import numpy as np\n",
        "# Create medium: observations with cars_per_cap between 100 and 500\n",
        "\n",
        "cpc = cars[\"cars_per_cap\"]\n",
        "between = np.logical_and(cpc > 100, cpc < 500)\n",
        "medium = cars[between]\n",
        "\n",
        "# Print medium\n",
        "print(medium)"
      ],
      "metadata": {
        "colab": {
          "base_uri": "https://localhost:8080/"
        },
        "id": "JxGfAawOYIua",
        "outputId": "b73fc842-8785-488b-94e3-cc6ce0855070"
      },
      "execution_count": 2,
      "outputs": [
        {
          "output_type": "stream",
          "name": "stdout",
          "text": [
            "            cars_per_cap country  drives_right\n",
            "country_ab                                    \n",
            "RU                   200  Russia          True\n"
          ]
        }
      ]
    },
    {
      "cell_type": "markdown",
      "source": [
        "### Logical Operators"
      ],
      "metadata": {
        "id": "3WrFrhA3YddB"
      }
    },
    {
      "cell_type": "code",
      "source": [
        "# Initialize offset\n",
        "\n",
        "offset = 8\n",
        "\n",
        "# Code the while loop\n",
        "\n",
        "while offset != 0:\n",
        "    print(\"correcting...\")\n",
        "    offset -= 1\n",
        "    print(offset)"
      ],
      "metadata": {
        "colab": {
          "base_uri": "https://localhost:8080/"
        },
        "id": "k8rflc4mYM-A",
        "outputId": "14c593df-e3fc-47ec-c131-059bf68b61ae"
      },
      "execution_count": 3,
      "outputs": [
        {
          "output_type": "stream",
          "name": "stdout",
          "text": [
            "correcting...\n",
            "7\n",
            "correcting...\n",
            "6\n",
            "correcting...\n",
            "5\n",
            "correcting...\n",
            "4\n",
            "correcting...\n",
            "3\n",
            "correcting...\n",
            "2\n",
            "correcting...\n",
            "1\n",
            "correcting...\n",
            "0\n"
          ]
        }
      ]
    },
    {
      "cell_type": "code",
      "source": [
        "# Initialize offset\n",
        "offset = -6\n",
        "\n",
        "# Code the while loop\n",
        "while offset != 0 :\n",
        "    print(\"correcting...\")\n",
        "    if offset > 0 :\n",
        "      offset -= 1\n",
        "    else :\n",
        "      offset += 1\n",
        "    print(offset)"
      ],
      "metadata": {
        "colab": {
          "base_uri": "https://localhost:8080/"
        },
        "id": "mgVUb5btYenZ",
        "outputId": "6f44e698-7672-4703-9354-bc745a1e57b3"
      },
      "execution_count": 4,
      "outputs": [
        {
          "output_type": "stream",
          "name": "stdout",
          "text": [
            "correcting...\n",
            "-5\n",
            "correcting...\n",
            "-4\n",
            "correcting...\n",
            "-3\n",
            "correcting...\n",
            "-2\n",
            "correcting...\n",
            "-1\n",
            "correcting...\n",
            "0\n"
          ]
        }
      ]
    },
    {
      "cell_type": "code",
      "source": [
        "# areas list\n",
        "areas = [11.25, 18.0, 20.0, 10.75, 9.50]\n",
        "\n",
        "# Change for loop to use enumerate() and update print()\n",
        "for index, area in enumerate(areas) :\n",
        "    print(\"room \" + str(index) + \": \" + str(area))"
      ],
      "metadata": {
        "colab": {
          "base_uri": "https://localhost:8080/"
        },
        "id": "_FLOqcEDYpIY",
        "outputId": "18cd3298-e326-4cb7-a2af-b8d8f398ef9f"
      },
      "execution_count": 5,
      "outputs": [
        {
          "output_type": "stream",
          "name": "stdout",
          "text": [
            "room 0: 11.25\n",
            "room 1: 18.0\n",
            "room 2: 20.0\n",
            "room 3: 10.75\n",
            "room 4: 9.5\n"
          ]
        }
      ]
    },
    {
      "cell_type": "code",
      "source": [
        "# areas list\n",
        "areas = [11.25, 18.0, 20.0, 10.75, 9.50]\n",
        "\n",
        "# Code the for loop\n",
        "for index, area in enumerate(areas) :\n",
        "    print(\"room \" + str(index + 1) + \": \" + str(area))"
      ],
      "metadata": {
        "colab": {
          "base_uri": "https://localhost:8080/"
        },
        "id": "6iVEvq3DY30J",
        "outputId": "0c53fa24-8f78-46e9-e3fd-47e3a88fc9e5"
      },
      "execution_count": 6,
      "outputs": [
        {
          "output_type": "stream",
          "name": "stdout",
          "text": [
            "room 1: 11.25\n",
            "room 2: 18.0\n",
            "room 3: 20.0\n",
            "room 4: 10.75\n",
            "room 5: 9.5\n"
          ]
        }
      ]
    },
    {
      "cell_type": "code",
      "source": [
        "# house list of lists\n",
        "house = [[\"hallway\", 11.25],\n",
        "         [\"kitchen\", 18.0],\n",
        "         [\"living room\", 20.0],\n",
        "         [\"bedroom\", 10.75],\n",
        "         [\"bathroom\", 9.50]]\n",
        "\n",
        "# Build a for loop from scratch\n",
        "for i in house:\n",
        "  print(i)"
      ],
      "metadata": {
        "colab": {
          "base_uri": "https://localhost:8080/"
        },
        "id": "DaZBYK0VZK5h",
        "outputId": "3515cd75-6e38-41f8-9bd7-476baeb3d84e"
      },
      "execution_count": 7,
      "outputs": [
        {
          "output_type": "stream",
          "name": "stdout",
          "text": [
            "['hallway', 11.25]\n",
            "['kitchen', 18.0]\n",
            "['living room', 20.0]\n",
            "['bedroom', 10.75]\n",
            "['bathroom', 9.5]\n"
          ]
        }
      ]
    },
    {
      "cell_type": "code",
      "source": [
        "for a, b in enumerate(house):\n",
        "  print(a, b)"
      ],
      "metadata": {
        "colab": {
          "base_uri": "https://localhost:8080/"
        },
        "id": "V5i_YL0sZivx",
        "outputId": "ec4a5517-3a3d-4654-9335-72fb6c7d6c66"
      },
      "execution_count": 8,
      "outputs": [
        {
          "output_type": "stream",
          "name": "stdout",
          "text": [
            "0 ['hallway', 11.25]\n",
            "1 ['kitchen', 18.0]\n",
            "2 ['living room', 20.0]\n",
            "3 ['bedroom', 10.75]\n",
            "4 ['bathroom', 9.5]\n"
          ]
        }
      ]
    },
    {
      "cell_type": "code",
      "source": [
        "for a, b in house:\n",
        "  print(a, b)"
      ],
      "metadata": {
        "colab": {
          "base_uri": "https://localhost:8080/"
        },
        "id": "XBkg8WJ2Zl2I",
        "outputId": "56f4eb34-6d07-438e-d1ba-4a6c8f0295aa"
      },
      "execution_count": 9,
      "outputs": [
        {
          "output_type": "stream",
          "name": "stdout",
          "text": [
            "hallway 11.25\n",
            "kitchen 18.0\n",
            "living room 20.0\n",
            "bedroom 10.75\n",
            "bathroom 9.5\n"
          ]
        }
      ]
    },
    {
      "cell_type": "markdown",
      "source": [
        "**Write a for loop that goes through each sublist of house and prints out the x is y sqm, where x is the name of the room and y is the area of the room**"
      ],
      "metadata": {
        "id": "Y18GBxD3Z0B-"
      }
    },
    {
      "cell_type": "code",
      "source": [
        "for x, y in house:\n",
        "  print(\"the \" + str(x) + \" is \" + str(y) + \" sqm\")"
      ],
      "metadata": {
        "colab": {
          "base_uri": "https://localhost:8080/"
        },
        "id": "NTdSsi3xZv_4",
        "outputId": "ac388067-6e93-4a6d-9d0a-aa1db436fa85"
      },
      "execution_count": 10,
      "outputs": [
        {
          "output_type": "stream",
          "name": "stdout",
          "text": [
            "the hallway is 11.25 sqm\n",
            "the kitchen is 18.0 sqm\n",
            "the living room is 20.0 sqm\n",
            "the bedroom is 10.75 sqm\n",
            "the bathroom is 9.5 sqm\n"
          ]
        }
      ]
    },
    {
      "cell_type": "code",
      "source": [
        "# Definition of dictionary\n",
        "europe = {'spain':'madrid', 'france':'paris', 'germany':'berlin',\n",
        "          'norway':'oslo', 'italy':'rome', 'poland':'warsaw', 'austria':'vienna' }\n",
        "\n",
        "# Iterate over europe\n",
        "for key, value in europe.items() :\n",
        "     print(\"the capital of \" + str(key) + \" is \" + str(value))"
      ],
      "metadata": {
        "colab": {
          "base_uri": "https://localhost:8080/"
        },
        "id": "0fJP5SUMaOAZ",
        "outputId": "5eda361b-1515-4669-f4f3-cfd339fb07c8"
      },
      "execution_count": 11,
      "outputs": [
        {
          "output_type": "stream",
          "name": "stdout",
          "text": [
            "the capital of spain is madrid\n",
            "the capital of france is paris\n",
            "the capital of germany is berlin\n",
            "the capital of norway is oslo\n",
            "the capital of italy is rome\n",
            "the capital of poland is warsaw\n",
            "the capital of austria is vienna\n"
          ]
        }
      ]
    },
    {
      "cell_type": "code",
      "source": [
        "for x in np.nditer(areas):\n",
        "  print(x)"
      ],
      "metadata": {
        "colab": {
          "base_uri": "https://localhost:8080/"
        },
        "id": "BhE103m8au0Q",
        "outputId": "c35e85a2-578a-45e4-91d3-a9aa702f4e66"
      },
      "execution_count": 12,
      "outputs": [
        {
          "output_type": "stream",
          "name": "stdout",
          "text": [
            "(array(11.25), array(18.), array(20.), array(10.75), array(9.5))\n"
          ]
        }
      ]
    },
    {
      "cell_type": "markdown",
      "source": [
        "## Cars Dataframe"
      ],
      "metadata": {
        "id": "jFrZ_bZHcNVM"
      }
    },
    {
      "cell_type": "code",
      "source": [
        "cars.head()"
      ],
      "metadata": {
        "colab": {
          "base_uri": "https://localhost:8080/",
          "height": 238
        },
        "id": "uC_sTUFDcPNd",
        "outputId": "42990f1c-d4ef-4417-b429-7f7f117d37e7"
      },
      "execution_count": 13,
      "outputs": [
        {
          "output_type": "execute_result",
          "data": {
            "text/plain": [
              "            cars_per_cap        country  drives_right\n",
              "country_ab                                           \n",
              "US                   809  United States          True\n",
              "AUS                  731      Australia         False\n",
              "JAP                  588          Japan         False\n",
              "IN                    18          India         False\n",
              "RU                   200         Russia          True"
            ],
            "text/html": [
              "\n",
              "  <div id=\"df-a98f01fc-8998-44f7-b2fb-136227329824\">\n",
              "    <div class=\"colab-df-container\">\n",
              "      <div>\n",
              "<style scoped>\n",
              "    .dataframe tbody tr th:only-of-type {\n",
              "        vertical-align: middle;\n",
              "    }\n",
              "\n",
              "    .dataframe tbody tr th {\n",
              "        vertical-align: top;\n",
              "    }\n",
              "\n",
              "    .dataframe thead th {\n",
              "        text-align: right;\n",
              "    }\n",
              "</style>\n",
              "<table border=\"1\" class=\"dataframe\">\n",
              "  <thead>\n",
              "    <tr style=\"text-align: right;\">\n",
              "      <th></th>\n",
              "      <th>cars_per_cap</th>\n",
              "      <th>country</th>\n",
              "      <th>drives_right</th>\n",
              "    </tr>\n",
              "    <tr>\n",
              "      <th>country_ab</th>\n",
              "      <th></th>\n",
              "      <th></th>\n",
              "      <th></th>\n",
              "    </tr>\n",
              "  </thead>\n",
              "  <tbody>\n",
              "    <tr>\n",
              "      <th>US</th>\n",
              "      <td>809</td>\n",
              "      <td>United States</td>\n",
              "      <td>True</td>\n",
              "    </tr>\n",
              "    <tr>\n",
              "      <th>AUS</th>\n",
              "      <td>731</td>\n",
              "      <td>Australia</td>\n",
              "      <td>False</td>\n",
              "    </tr>\n",
              "    <tr>\n",
              "      <th>JAP</th>\n",
              "      <td>588</td>\n",
              "      <td>Japan</td>\n",
              "      <td>False</td>\n",
              "    </tr>\n",
              "    <tr>\n",
              "      <th>IN</th>\n",
              "      <td>18</td>\n",
              "      <td>India</td>\n",
              "      <td>False</td>\n",
              "    </tr>\n",
              "    <tr>\n",
              "      <th>RU</th>\n",
              "      <td>200</td>\n",
              "      <td>Russia</td>\n",
              "      <td>True</td>\n",
              "    </tr>\n",
              "  </tbody>\n",
              "</table>\n",
              "</div>\n",
              "      <button class=\"colab-df-convert\" onclick=\"convertToInteractive('df-a98f01fc-8998-44f7-b2fb-136227329824')\"\n",
              "              title=\"Convert this dataframe to an interactive table.\"\n",
              "              style=\"display:none;\">\n",
              "        \n",
              "  <svg xmlns=\"http://www.w3.org/2000/svg\" height=\"24px\"viewBox=\"0 0 24 24\"\n",
              "       width=\"24px\">\n",
              "    <path d=\"M0 0h24v24H0V0z\" fill=\"none\"/>\n",
              "    <path d=\"M18.56 5.44l.94 2.06.94-2.06 2.06-.94-2.06-.94-.94-2.06-.94 2.06-2.06.94zm-11 1L8.5 8.5l.94-2.06 2.06-.94-2.06-.94L8.5 2.5l-.94 2.06-2.06.94zm10 10l.94 2.06.94-2.06 2.06-.94-2.06-.94-.94-2.06-.94 2.06-2.06.94z\"/><path d=\"M17.41 7.96l-1.37-1.37c-.4-.4-.92-.59-1.43-.59-.52 0-1.04.2-1.43.59L10.3 9.45l-7.72 7.72c-.78.78-.78 2.05 0 2.83L4 21.41c.39.39.9.59 1.41.59.51 0 1.02-.2 1.41-.59l7.78-7.78 2.81-2.81c.8-.78.8-2.07 0-2.86zM5.41 20L4 18.59l7.72-7.72 1.47 1.35L5.41 20z\"/>\n",
              "  </svg>\n",
              "      </button>\n",
              "      \n",
              "  <style>\n",
              "    .colab-df-container {\n",
              "      display:flex;\n",
              "      flex-wrap:wrap;\n",
              "      gap: 12px;\n",
              "    }\n",
              "\n",
              "    .colab-df-convert {\n",
              "      background-color: #E8F0FE;\n",
              "      border: none;\n",
              "      border-radius: 50%;\n",
              "      cursor: pointer;\n",
              "      display: none;\n",
              "      fill: #1967D2;\n",
              "      height: 32px;\n",
              "      padding: 0 0 0 0;\n",
              "      width: 32px;\n",
              "    }\n",
              "\n",
              "    .colab-df-convert:hover {\n",
              "      background-color: #E2EBFA;\n",
              "      box-shadow: 0px 1px 2px rgba(60, 64, 67, 0.3), 0px 1px 3px 1px rgba(60, 64, 67, 0.15);\n",
              "      fill: #174EA6;\n",
              "    }\n",
              "\n",
              "    [theme=dark] .colab-df-convert {\n",
              "      background-color: #3B4455;\n",
              "      fill: #D2E3FC;\n",
              "    }\n",
              "\n",
              "    [theme=dark] .colab-df-convert:hover {\n",
              "      background-color: #434B5C;\n",
              "      box-shadow: 0px 1px 3px 1px rgba(0, 0, 0, 0.15);\n",
              "      filter: drop-shadow(0px 1px 2px rgba(0, 0, 0, 0.3));\n",
              "      fill: #FFFFFF;\n",
              "    }\n",
              "  </style>\n",
              "\n",
              "      <script>\n",
              "        const buttonEl =\n",
              "          document.querySelector('#df-a98f01fc-8998-44f7-b2fb-136227329824 button.colab-df-convert');\n",
              "        buttonEl.style.display =\n",
              "          google.colab.kernel.accessAllowed ? 'block' : 'none';\n",
              "\n",
              "        async function convertToInteractive(key) {\n",
              "          const element = document.querySelector('#df-a98f01fc-8998-44f7-b2fb-136227329824');\n",
              "          const dataTable =\n",
              "            await google.colab.kernel.invokeFunction('convertToInteractive',\n",
              "                                                     [key], {});\n",
              "          if (!dataTable) return;\n",
              "\n",
              "          const docLinkHtml = 'Like what you see? Visit the ' +\n",
              "            '<a target=\"_blank\" href=https://colab.research.google.com/notebooks/data_table.ipynb>data table notebook</a>'\n",
              "            + ' to learn more about interactive tables.';\n",
              "          element.innerHTML = '';\n",
              "          dataTable['output_type'] = 'display_data';\n",
              "          await google.colab.output.renderOutput(dataTable, element);\n",
              "          const docLink = document.createElement('div');\n",
              "          docLink.innerHTML = docLinkHtml;\n",
              "          element.appendChild(docLink);\n",
              "        }\n",
              "      </script>\n",
              "    </div>\n",
              "  </div>\n",
              "  "
            ]
          },
          "metadata": {},
          "execution_count": 13
        }
      ]
    },
    {
      "cell_type": "code",
      "source": [
        "# Iterate over rows of cars\n",
        "\n",
        "for a, b in cars.iterrows():\n",
        "    print(a)\n",
        "    print(b)"
      ],
      "metadata": {
        "colab": {
          "base_uri": "https://localhost:8080/"
        },
        "id": "cXYFec-1b0jI",
        "outputId": "b79ccee8-8fd7-48db-925c-a568a41ea55d"
      },
      "execution_count": 14,
      "outputs": [
        {
          "output_type": "stream",
          "name": "stdout",
          "text": [
            "US\n",
            "cars_per_cap              809\n",
            "country         United States\n",
            "drives_right             True\n",
            "Name: US, dtype: object\n",
            "AUS\n",
            "cars_per_cap          731\n",
            "country         Australia\n",
            "drives_right        False\n",
            "Name: AUS, dtype: object\n",
            "JAP\n",
            "cars_per_cap      588\n",
            "country         Japan\n",
            "drives_right    False\n",
            "Name: JAP, dtype: object\n",
            "IN\n",
            "cars_per_cap       18\n",
            "country         India\n",
            "drives_right    False\n",
            "Name: IN, dtype: object\n",
            "RU\n",
            "cars_per_cap       200\n",
            "country         Russia\n",
            "drives_right      True\n",
            "Name: RU, dtype: object\n",
            "MOR\n",
            "cars_per_cap         70\n",
            "country         Morocco\n",
            "drives_right       True\n",
            "Name: MOR, dtype: object\n",
            "EG\n",
            "cars_per_cap       45\n",
            "country         Egypt\n",
            "drives_right     True\n",
            "Name: EG, dtype: object\n"
          ]
        }
      ]
    },
    {
      "cell_type": "code",
      "source": [
        "# Adapt for loop\n",
        "for lab, row in cars.iterrows() :\n",
        "    print(lab + \": \" + str(row['cars_per_cap']))"
      ],
      "metadata": {
        "colab": {
          "base_uri": "https://localhost:8080/"
        },
        "id": "1l6jhm0lcOVI",
        "outputId": "b61de8d7-0f61-4765-cd6f-f5bd9bc60e53"
      },
      "execution_count": 15,
      "outputs": [
        {
          "output_type": "stream",
          "name": "stdout",
          "text": [
            "US: 809\n",
            "AUS: 731\n",
            "JAP: 588\n",
            "IN: 18\n",
            "RU: 200\n",
            "MOR: 70\n",
            "EG: 45\n"
          ]
        }
      ]
    },
    {
      "cell_type": "code",
      "source": [
        "# Code for loop that adds COUNTRY column\n",
        "\n",
        "for lab, row in cars.iterrows():\n",
        "    cars.loc[lab, \"COUNTRY\"] = row[\"country\"].upper()\n",
        "\n",
        "# Print cars\n",
        "print(cars)"
      ],
      "metadata": {
        "colab": {
          "base_uri": "https://localhost:8080/"
        },
        "id": "Kx7eACo9cpCg",
        "outputId": "721cc710-23d0-4db7-db0a-f5a84f9f208e"
      },
      "execution_count": 16,
      "outputs": [
        {
          "output_type": "stream",
          "name": "stdout",
          "text": [
            "            cars_per_cap        country  drives_right        COUNTRY\n",
            "country_ab                                                          \n",
            "US                   809  United States          True  UNITED STATES\n",
            "AUS                  731      Australia         False      AUSTRALIA\n",
            "JAP                  588          Japan         False          JAPAN\n",
            "IN                    18          India         False          INDIA\n",
            "RU                   200         Russia          True         RUSSIA\n",
            "MOR                   70        Morocco          True        MOROCCO\n",
            "EG                    45          Egypt          True          EGYPT\n"
          ]
        }
      ]
    },
    {
      "cell_type": "code",
      "source": [],
      "metadata": {
        "id": "qeuXIY1ddz2n"
      },
      "execution_count": 16,
      "outputs": []
    }
  ]
}