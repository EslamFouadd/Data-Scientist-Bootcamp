{
  "cells": [
    {
      "source": [
        "## 1. Loading your friend's data into a dictionary\n",
        "<p><img src=\"https://www.accedo.tv/wp-content/uploads/2020/02/Voice-Banner.jpg\" alt=\"Someone's feet on table facing a television\"></p>\n",
        "<p>Netflix! What started in 1997 as a DVD rental service has since exploded into the largest entertainment/media company by <a href=\"https://www.marketwatch.com/story/netflix-shares-close-up-8-for-yet-another-record-high-2020-07-10\">market capitalization</a>, boasting over 200 million subscribers as of <a href=\"https://www.cbsnews.com/news/netflix-tops-200-million-subscribers-but-faces-growing-challenge-from-disney-plus/\">January 2021</a>.</p>\n",
        "<p>Given the large number of movies and series available on the platform, it is a perfect opportunity to flex our data manipulation skills and dive into the entertainment industry. Our friend has also been brushing up on their Python skills and has taken a first crack at a CSV file containing Netflix data. For their first order of business, they have been performing some analyses, and they believe that the average duration of movies has been declining. </p>\n",
        "<p>As evidence of this, they have provided us with the following information. For the years from 2011 to 2020, the average movie durations are 103, 101, 99, 100, 100, 95, 95, 96, 93, and 90, respectively. But first we'll need to create a DataFrame from scratch. Let's start by creating a Python object: a dictionary!</p>"
      ],
      "metadata": {
        "dc": {
          "key": "4"
        },
        "deletable": false,
        "editable": false,
        "run_control": {
          "frozen": true
        },
        "tags": [
          "context"
        ],
        "id": "bf7999ce-4c13-4955-a5df-87b44ab95396"
      },
      "id": "bf7999ce-4c13-4955-a5df-87b44ab95396",
      "cell_type": "markdown"
    },
    {
      "source": [
        "# Create the years and durations lists\n",
        "\n",
        "\n",
        "# Create a dictionary with the two lists\n",
        "\n",
        "\n",
        "# Print the dictionary\n"
      ],
      "metadata": {
        "dc": {
          "key": "4"
        },
        "tags": [
          "sample_code"
        ],
        "id": "082d6162-8a72-4e89-b288-0654e22d3274"
      },
      "id": "082d6162-8a72-4e89-b288-0654e22d3274",
      "cell_type": "code",
      "execution_count": 1,
      "outputs": []
    },
    {
      "source": [
        "## 2. Creating a DataFrame from a dictionary\n",
        "<p>To convert our dictionary <code>movie_dict</code> to a <code>pandas</code> DataFrame, we will first need to import the library under its usual alias. We'll also want to inspect our DataFrame to ensure it was created correctly. Let's perform these steps now.</p>"
      ],
      "metadata": {
        "dc": {
          "key": "11"
        },
        "deletable": false,
        "editable": false,
        "run_control": {
          "frozen": true
        },
        "tags": [
          "context"
        ],
        "id": "a7be1202-410f-4583-8423-029bea622c03"
      },
      "id": "a7be1202-410f-4583-8423-029bea622c03",
      "cell_type": "markdown"
    },
    {
      "source": [
        "# Import pandas under its usual alias\n",
        "\n",
        "\n",
        "# Create a DataFrame from the dictionary\n",
        "\n",
        "\n",
        "# Print the DataFrame\n"
      ],
      "metadata": {
        "dc": {
          "key": "11"
        },
        "tags": [
          "sample_code"
        ],
        "id": "a000468f-fb43-4209-9f6c-fa54d184eb8d"
      },
      "id": "a000468f-fb43-4209-9f6c-fa54d184eb8d",
      "cell_type": "code",
      "execution_count": 2,
      "outputs": []
    },
    {
      "source": [
        "## 3. A visual inspection of our data\n",
        "<p>Alright, we now have a <code>pandas</code> DataFrame, the most common way to work with tabular data in Python. Now back to the task at hand. We want to follow up on our friend's assertion that movie lengths have been decreasing over time. A great place to start will be a visualization of the data.</p>\n",
        "<p>Given that the data is continuous, a line plot would be a good choice, with the dates represented along the x-axis and the average length in minutes along the y-axis. This will allow us to easily spot any trends in movie durations. There are many ways to visualize data in Python, but <code>matploblib.pyplot</code> is one of the most common packages to do so.</p>"
      ],
      "metadata": {
        "dc": {
          "key": "18"
        },
        "deletable": false,
        "editable": false,
        "run_control": {
          "frozen": true
        },
        "tags": [
          "context"
        ],
        "id": "8b966389-0334-4088-8c0d-e12eba362926"
      },
      "id": "8b966389-0334-4088-8c0d-e12eba362926",
      "cell_type": "markdown"
    },
    {
      "source": [
        "# Import matplotlib.pyplot under its usual alias and create a figure\n",
        "\n",
        "\n",
        "# Draw a line plot of release_years and durations\n",
        "\n",
        "\n",
        "# Create a title\n",
        "\n",
        "\n",
        "# Show the plot\n"
      ],
      "metadata": {
        "dc": {
          "key": "18"
        },
        "tags": [
          "sample_code"
        ],
        "id": "d8e3a3b9-3de1-4810-843b-9ab02989ae7e"
      },
      "id": "d8e3a3b9-3de1-4810-843b-9ab02989ae7e",
      "cell_type": "code",
      "execution_count": 3,
      "outputs": []
    },
    {
      "source": [
        "## 4. Loading the rest of the data from a CSV\n",
        "<p>Well, it looks like there is something to the idea that movie lengths have decreased over the past ten years! But equipped only with our friend's aggregations, we're limited in the further explorations we can perform. There are a few questions about this trend that we are currently unable to answer, including:</p>\n",
        "<ol>\n",
        "<li>What does this trend look like over a longer period of time?</li>\n",
        "<li>Is this explainable by something like the genre of entertainment?</li>\n",
        "</ol>\n",
        "<p>Upon asking our friend for the original CSV they used to perform their analyses, they gladly oblige and send it. We now have access to the CSV file, available at the path <code>\"datasets/netflix_data.csv\"</code>. Let's create another DataFrame, this time with all of the data. Given the length of our friend's data, printing the whole DataFrame is probably not a good idea, so we will inspect it by printing only the first five rows.</p>"
      ],
      "metadata": {
        "dc": {
          "key": "25"
        },
        "deletable": false,
        "editable": false,
        "run_control": {
          "frozen": true
        },
        "tags": [
          "context"
        ],
        "id": "b2284a20-a780-402a-b16e-286df77f1aef"
      },
      "id": "b2284a20-a780-402a-b16e-286df77f1aef",
      "cell_type": "markdown"
    },
    {
      "source": [
        "# Read in the CSV as a DataFrame\n",
        "\n",
        "# Print the first five rows of the DataFrame\n"
      ],
      "metadata": {
        "dc": {
          "key": "25"
        },
        "tags": [
          "sample_code"
        ],
        "id": "08d7c4b5-d147-467e-a643-04ee69a3b2dc"
      },
      "id": "08d7c4b5-d147-467e-a643-04ee69a3b2dc",
      "cell_type": "code",
      "execution_count": 4,
      "outputs": []
    },
    {
      "source": [
        "## 5. Filtering for movies!\n",
        "<p>Okay, we have our data! Now we can dive in and start looking at movie lengths. </p>\n",
        "<p>Or can we? Looking at the first five rows of our new DataFrame, we notice a column <code>type</code>. Scanning the column, it's clear there are also TV shows in the dataset! Moreover, the <code>duration</code> column we planned to use seems to represent different values depending on whether the row is a movie or a show (perhaps the number of minutes versus the number of seasons)?</p>\n",
        "<p>Fortunately, a DataFrame allows us to filter data quickly, and we can select rows where <code>type</code> is <code>Movie</code>. While we're at it, we don't need information from all of the columns, so let's create a new DataFrame <code>netflix_movies</code> containing only <code>title</code>, <code>country</code>, <code>genre</code>, <code>release_year</code>, and <code>duration</code>.</p>\n",
        "<p>Let's put our data subsetting skills to work!</p>"
      ],
      "metadata": {
        "dc": {
          "key": "32"
        },
        "deletable": false,
        "editable": false,
        "run_control": {
          "frozen": true
        },
        "tags": [
          "context"
        ],
        "id": "504d8773-0186-41aa-9d77-1b84454ac6d1"
      },
      "id": "504d8773-0186-41aa-9d77-1b84454ac6d1",
      "cell_type": "markdown"
    },
    {
      "source": [
        "# Subset the DataFrame for type \"Movie\"\n",
        "\n",
        "\n",
        "# Select only the columns of interest\n",
        "\n",
        "\n",
        "# Print the first five rows of the new DataFrame\n"
      ],
      "metadata": {
        "dc": {
          "key": "32"
        },
        "tags": [
          "sample_code"
        ],
        "id": "232de5e9-0e01-467f-a9a7-96076f9200df"
      },
      "id": "232de5e9-0e01-467f-a9a7-96076f9200df",
      "cell_type": "code",
      "execution_count": 5,
      "outputs": []
    },
    {
      "source": [
        "## 6. Creating a scatter plot\n",
        "<p>Okay, now we're getting somewhere. We've read in the raw data, selected rows of movies, and have limited our DataFrame to our columns of interest. Let's try visualizing the data again to inspect the data over a longer range of time.</p>\n",
        "<p>This time, we are no longer working with aggregates but instead with individual movies. A line plot is no longer a good choice for our data, so let's try a scatter plot instead. We will again plot the year of release on the x-axis and the movie duration on the y-axis.</p>\n",
        "<p><em>Note: Although not taught in Intermediate Python, we have provided you the code <code>fig = plt.figure(figsize=(12,8))</code> to increase the size of the plot (to help you see the results), as well as to assist with testing. For more information on how to create or work with a <code>matplotlib</code> <code>figure</code>, refer to the <a href=\"https://matplotlib.org/stable/api/_as_gen/matplotlib.pyplot.figure.html\">documentation</a>.</em></p>"
      ],
      "metadata": {
        "dc": {
          "key": "39"
        },
        "deletable": false,
        "editable": false,
        "run_control": {
          "frozen": true
        },
        "tags": [
          "context"
        ],
        "id": "6508e384-ea9b-4893-9a20-cf6ec904a875"
      },
      "id": "6508e384-ea9b-4893-9a20-cf6ec904a875",
      "cell_type": "markdown"
    },
    {
      "source": [
        "# Create a figure and increase the figure size\n",
        "\n",
        "\n",
        "# Create a scatter plot of duration versus year\n",
        "\n",
        "\n",
        "\n",
        "# Create a title\n",
        "\n",
        "\n",
        "# Show the plot\n"
      ],
      "metadata": {
        "dc": {
          "key": "39"
        },
        "tags": [
          "sample_code"
        ],
        "id": "8cea6eba-e528-455b-8637-915e5083f2d6"
      },
      "id": "8cea6eba-e528-455b-8637-915e5083f2d6",
      "cell_type": "code",
      "execution_count": 6,
      "outputs": []
    },
    {
      "source": [
        "## 7. Digging deeper\n",
        "<p>This is already much more informative than the simple plot we created when our friend first gave us some data. We can also see that, while newer movies are overrepresented on the platform, many short movies have been released in the past two decades.</p>\n",
        "<p>Upon further inspection, something else is going on. Some of these films are under an hour long! Let's filter our DataFrame for movies with a <code>duration</code> under 60 minutes and look at the genres. This might give us some insight into what is dragging down the average.</p>"
      ],
      "metadata": {
        "dc": {
          "key": "46"
        },
        "deletable": false,
        "editable": false,
        "run_control": {
          "frozen": true
        },
        "tags": [
          "context"
        ],
        "id": "49e213c1-cdd9-4d96-be89-db31036d0cd1"
      },
      "id": "49e213c1-cdd9-4d96-be89-db31036d0cd1",
      "cell_type": "markdown"
    },
    {
      "source": [
        "# Filter for durations shorter than 60 minutes\n",
        "\n",
        "\n",
        "# Print the first 20 rows of short_movies\n"
      ],
      "metadata": {
        "dc": {
          "key": "46"
        },
        "tags": [
          "sample_code"
        ],
        "id": "62a285e3-4a3e-498b-9eae-bdede412f695"
      },
      "id": "62a285e3-4a3e-498b-9eae-bdede412f695",
      "cell_type": "code",
      "execution_count": 7,
      "outputs": []
    },
    {
      "source": [
        "## 8. Marking non-feature films\n",
        "<p>Interesting! It looks as though many of the films that are under 60 minutes fall into genres such as \"Children\", \"Stand-Up\", and \"Documentaries\". This is a logical result, as these types of films are probably often shorter than 90 minute Hollywood blockbuster. </p>\n",
        "<p>We could eliminate these rows from our DataFrame and plot the values again. But another interesting way to explore the effect of these genres on our data would be to plot them, but mark them with a different color.</p>\n",
        "<p>In Python, there are many ways to do this, but one fun way might be to use a loop to generate a list of colors based on the contents of the <code>genre</code> column. Much as we did in Intermediate Python, we can then pass this list to our plotting function in a later step to color all non-typical genres in a different color!</p>\n",
        "<p><em>Note: Although we are using the basic colors of red, blue, green, and black, <code>matplotlib</code> has many named colors you can use when creating plots. For more information, you can refer to the documentation <a href=\"https://matplotlib.org/stable/gallery/color/named_colors.html\">here</a>!</em></p>"
      ],
      "metadata": {
        "dc": {
          "key": "53"
        },
        "deletable": false,
        "editable": false,
        "run_control": {
          "frozen": true
        },
        "tags": [
          "context"
        ],
        "id": "80362ba2-26ac-4dd4-992c-843017ebef36"
      },
      "id": "80362ba2-26ac-4dd4-992c-843017ebef36",
      "cell_type": "markdown"
    },
    {
      "source": [
        "# Define an empty list\n",
        "\n",
        "\n",
        "# Iterate over rows of netflix_movies_col_subset\n",
        "\n",
        "\n",
        "\n",
        "# Inspect the first 10 values in your list\n"
      ],
      "metadata": {
        "dc": {
          "key": "53"
        },
        "tags": [
          "sample_code"
        ],
        "id": "9f2f9ecf-5041-4618-a302-527a9aa82a59"
      },
      "id": "9f2f9ecf-5041-4618-a302-527a9aa82a59",
      "cell_type": "code",
      "execution_count": 8,
      "outputs": []
    },
    {
      "source": [
        "## 9. Plotting with color!\n",
        "<p>Lovely looping! We now have a <code>colors</code> list that we can pass to our scatter plot, which should allow us to visually inspect whether these genres might be responsible for the decline in the average duration of movies.</p>\n",
        "<p>This time, we'll also spruce up our plot with some additional axis labels and a new theme with <code>plt.style.use()</code>. The latter isn't taught in Intermediate Python, but can be a fun way to add some visual flair to a basic <code>matplotlib</code> plot. You can find more information on customizing the style of your plot <a href=\"https://matplotlib.org/stable/tutorials/introductory/customizing.html\">here</a>!</p>"
      ],
      "metadata": {
        "dc": {
          "key": "60"
        },
        "deletable": false,
        "editable": false,
        "run_control": {
          "frozen": true
        },
        "tags": [
          "context"
        ],
        "id": "962b0397-ddad-4389-9a16-ed25e7d77a19"
      },
      "id": "962b0397-ddad-4389-9a16-ed25e7d77a19",
      "cell_type": "raw"
    },
    {
      "source": [
        "## 9. Plotting with color!\n",
        "<p>Lovely looping! We now have a <code>colors</code> list that we can pass to our scatter plot, which should allow us to visually inspect whether these genres might be responsible for the decline in the average duration of movies.</p>\n",
        "<p>This time, we'll also spruce up our plot with some additional axis labels and a new theme with <code>plt.style.use()</code>. The latter isn't taught in Intermediate Python, but can be a fun way to add some visual flair to a basic <code>matplotlib</code> plot. You can find more information on customizing the style of your plot <a href=\"https://matplotlib.org/stable/tutorials/introductory/customizing.html\">here</a>!</p>\n"
      ],
      "metadata": {
        "dc": {
          "key": "60"
        },
        "tags": [
          "sample_code"
        ],
        "id": "4b5b1dc0-30ac-4fdd-8263-0435e8851c85"
      },
      "id": "4b5b1dc0-30ac-4fdd-8263-0435e8851c85",
      "cell_type": "markdown"
    },
    {
      "source": [
        "# Set the figure style and initalize a new figure\n",
        "\n",
        "\n",
        "# Create a scatter plot of duration versus release_year\n",
        "\n",
        "\n",
        "# Create a title and axis labels\n",
        "\n",
        "\n",
        "# Show the plot\n"
      ],
      "metadata": {
        "id": "11de92aa-50e2-4c4f-9146-b9c2c00ba257"
      },
      "cell_type": "code",
      "id": "11de92aa-50e2-4c4f-9146-b9c2c00ba257",
      "execution_count": 9,
      "outputs": []
    },
    {
      "source": [
        "## 10. What next?\n",
        "<p>Well, as we suspected, non-typical genres such as children's movies and documentaries are all clustered around the bottom half of the plot. But we can't know for certain until we perform additional analyses. </p>"
      ],
      "metadata": {
        "dc": {
          "key": "67"
        },
        "deletable": false,
        "editable": false,
        "run_control": {
          "frozen": true
        },
        "tags": [
          "context"
        ],
        "id": "2cf21776-b2e3-4363-a2df-0faaebf2597a"
      },
      "id": "2cf21776-b2e3-4363-a2df-0faaebf2597a",
      "cell_type": "markdown"
    },
    {
      "source": [
        "# Are we certain that movies are getting shorter?\n"
      ],
      "metadata": {
        "collapsed": true,
        "dc": {
          "key": "67"
        },
        "jupyter": {
          "outputs_hidden": true
        },
        "tags": [
          "sample_code"
        ],
        "id": "1a8b2065-b44f-4860-851b-740a707d05d9"
      },
      "id": "1a8b2065-b44f-4860-851b-740a707d05d9",
      "cell_type": "code",
      "execution_count": 10,
      "outputs": []
    }
  ],
  "metadata": {
    "kernelspec": {
      "display_name": "Python 3 (ipykernel)",
      "language": "python",
      "name": "python3"
    },
    "language_info": {
      "codemirror_mode": {
        "name": "ipython",
        "version": 3
      },
      "file_extension": ".py",
      "mimetype": "text/x-python",
      "name": "python",
      "nbconvert_exporter": "python",
      "pygments_lexer": "ipython3",
      "version": "3.8.10"
    },
    "colab": {
      "provenance": []
    }
  },
  "nbformat": 4,
  "nbformat_minor": 5
}